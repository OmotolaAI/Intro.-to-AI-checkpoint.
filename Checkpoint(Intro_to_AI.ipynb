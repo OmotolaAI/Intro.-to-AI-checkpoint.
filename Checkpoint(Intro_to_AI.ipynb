{
  "nbformat": 4,
  "nbformat_minor": 0,
  "metadata": {
    "colab": {
      "name": "Checkpoint(Intro. to AI.ipynb",
      "provenance": [],
      "collapsed_sections": [],
      "authorship_tag": "ABX9TyNJaqb1uwRWv6DFvaxq97qW",
      "include_colab_link": true
    },
    "kernelspec": {
      "name": "python3",
      "display_name": "Python 3"
    },
    "language_info": {
      "name": "python"
    }
  },
  "cells": [
    {
      "cell_type": "markdown",
      "metadata": {
        "id": "view-in-github",
        "colab_type": "text"
      },
      "source": [
        "<a href=\"https://colab.research.google.com/github/OmotolaAI/Intro.-to-AI-checkpoint./blob/main/Checkpoint(Intro_to_AI.ipynb\" target=\"_parent\"><img src=\"https://colab.research.google.com/assets/colab-badge.svg\" alt=\"Open In Colab\"/></a>"
      ]
    },
    {
      "cell_type": "markdown",
      "source": [
        "1."
      ],
      "metadata": {
        "id": "QWRwgcZ3OsB6"
      }
    },
    {
      "cell_type": "code",
      "execution_count": 8,
      "metadata": {
        "colab": {
          "base_uri": "https://localhost:8080/"
        },
        "id": "NZH3Q5mEMPl7",
        "outputId": "3e5a0ae8-bb48-4921-efc4-369a30c31aea"
      },
      "outputs": [
        {
          "output_type": "stream",
          "name": "stdout",
          "text": [
            "2002 2009 2016 2023 2037 2044 2051 2058 2072 2079 2086 2093 2107 2114 2121 2128 2142 2149 2156 2163 2177 2184 2191 2198 2212 2219 2226 2233 2247 2254 2261 2268 2282 2289 2296 2303 2317 2324 2331 2338 2352 2359 2366 2373 2387 2394 2401 2408 2422 2429 2436 2443 2457 2464 2471 2478 2492 2499 2506 2513 2527 2534 2541 2548 2562 2569 2576 2583 2597 2604 2611 2618 2632 2639 2646 2653 2667 2674 2681 2688 2702 2709 2716 2723 2737 2744 2751 2758 2772 2779 2786 2793 2807 2814 2821 2828 2842 2849 2856 2863 2877 2884 2891 2898 2912 2919 2926 2933 2947 2954 2961 2968 2982 2989 2996 3003 3017 3024 3031 3038 3052 3059 3066 3073 3087 3094 3101 3108 3122 3129 3136 3143 3157 3164 3171 3178 3192 3199 "
          ]
        }
      ],
      "source": [
        "for i in range(2000,3200):\n",
        "  if i%7==0 and i%5!=0:\n",
        "    print(i, end=\" \")"
      ]
    },
    {
      "cell_type": "markdown",
      "source": [
        "2."
      ],
      "metadata": {
        "id": "hDON0NyMOrPx"
      }
    },
    {
      "cell_type": "code",
      "source": [
        "def factorial(n):\n",
        "  if n==1:\n",
        "    return(n)\n",
        "  else:\n",
        "    return n*factorial(n-1)\n",
        "print(factorial(8))"
      ],
      "metadata": {
        "colab": {
          "base_uri": "https://localhost:8080/"
        },
        "id": "RKCx9NU4O61s",
        "outputId": "d17bc670-9bf7-4aa2-df4f-cec855ff4893"
      },
      "execution_count": 9,
      "outputs": [
        {
          "output_type": "stream",
          "name": "stdout",
          "text": [
            "40320\n"
          ]
        }
      ]
    },
    {
      "cell_type": "markdown",
      "source": [
        "3."
      ],
      "metadata": {
        "id": "jxDu3o2jMlQg"
      }
    },
    {
      "cell_type": "code",
      "source": [
        "n=int(input(\"Enter an mumber:\"))\n",
        "d={x:x*x for x in range(1, n+1)}\n",
        "print(d)"
      ],
      "metadata": {
        "colab": {
          "base_uri": "https://localhost:8080/"
        },
        "id": "0dA8wbT_QAYQ",
        "outputId": "85d1ec35-7e2c-41a5-bb41-5dd9584efbef"
      },
      "execution_count": 10,
      "outputs": [
        {
          "output_type": "stream",
          "name": "stdout",
          "text": [
            "Enter an mumber:12\n",
            "{1: 1, 2: 4, 3: 9, 4: 16, 5: 25, 6: 36, 7: 49, 8: 64, 9: 81, 10: 100, 11: 121, 12: 144}\n"
          ]
        }
      ]
    },
    {
      "cell_type": "markdown",
      "source": [
        "4."
      ],
      "metadata": {
        "id": "v5IYC_mHQi_B"
      }
    },
    {
      "cell_type": "code",
      "source": [
        "str=\"waiter\"\n",
        "str=str[:3]+str[4:]\n",
        "#remove character at index 1\n",
        "print(str)\n"
      ],
      "metadata": {
        "colab": {
          "base_uri": "https://localhost:8080/"
        },
        "id": "40IpbWo6QmD-",
        "outputId": "55f6bd7b-9715-4b79-f647-a32399c77b04"
      },
      "execution_count": 11,
      "outputs": [
        {
          "output_type": "stream",
          "name": "stdout",
          "text": [
            "waier\n"
          ]
        }
      ]
    },
    {
      "cell_type": "markdown",
      "source": [
        "5."
      ],
      "metadata": {
        "id": "Dm8zl0GUQ-Vz"
      }
    },
    {
      "cell_type": "code",
      "source": [
        "import numpy as np\n",
        "x=np.arange(6).reshape(3,2)\n",
        "print(\"Original array elements:\")\n",
        "print(x)\n",
        "print(\"Array to list:\")\n",
        "print(x.tolist())"
      ],
      "metadata": {
        "colab": {
          "base_uri": "https://localhost:8080/"
        },
        "id": "jnpYyZpgQ_eF",
        "outputId": "32b13cd2-4bb7-436c-ac83-4ce893208ba5"
      },
      "execution_count": 13,
      "outputs": [
        {
          "output_type": "stream",
          "name": "stdout",
          "text": [
            "Original array elements:\n",
            "[[0 1]\n",
            " [2 3]\n",
            " [4 5]]\n",
            "Array to list:\n",
            "[[0, 1], [2, 3], [4, 5]]\n"
          ]
        }
      ]
    },
    {
      "cell_type": "markdown",
      "source": [
        "6."
      ],
      "metadata": {
        "id": "_IcBRPyeSLy3"
      }
    },
    {
      "cell_type": "code",
      "source": [
        "import numpy as numpy\n",
        "x=np.array([[0,1,2]])\n",
        "y=np.array([[2,1,0]])\n",
        "print(\"\\noriginal array1:\")\n",
        "print(x)\n",
        "print(\"\\noriginal array1:\")\n",
        "print(y)\n",
        "print(\"\\ncovariance matrix of the said arrays:n\",np.cov(x,y))"
      ],
      "metadata": {
        "colab": {
          "base_uri": "https://localhost:8080/"
        },
        "id": "pmM5RukUSOZF",
        "outputId": "8bea3825-90a2-45fa-e6f0-ec6eccbc90ee"
      },
      "execution_count": 14,
      "outputs": [
        {
          "output_type": "stream",
          "name": "stdout",
          "text": [
            "\n",
            "original array1:\n",
            "[[0 1 2]]\n",
            "\n",
            "original array1:\n",
            "[[2 1 0]]\n",
            "\n",
            "covariance matrix of the said arrays:n [[ 1. -1.]\n",
            " [-1.  1.]]\n"
          ]
        }
      ]
    },
    {
      "cell_type": "markdown",
      "source": [
        "7."
      ],
      "metadata": {
        "id": "uv2WnuDXTGwc"
      }
    },
    {
      "cell_type": "code",
      "source": [
        "import math\n",
        "numbers=input(\"provide D:\")\n",
        "numbers=numbers.split(\",\")\n",
        "\n",
        "result_list=[]\n",
        "for D in numbers:\n",
        "  Q=round(math.sqrt(2*50*int(D)/30))\n",
        "  result_list.append(Q)\n",
        "\n",
        "  print(result_list)\n",
        "  "
      ],
      "metadata": {
        "colab": {
          "base_uri": "https://localhost:8080/"
        },
        "id": "anMwj1RBTIdD",
        "outputId": "de9e98f4-9929-42fe-b315-7d8133820d6e"
      },
      "execution_count": 19,
      "outputs": [
        {
          "output_type": "stream",
          "name": "stdout",
          "text": [
            "provide D:100,150,180\n",
            "[18]\n",
            "[18, 22]\n",
            "[18, 22, 24]\n"
          ]
        }
      ]
    }
  ]
}